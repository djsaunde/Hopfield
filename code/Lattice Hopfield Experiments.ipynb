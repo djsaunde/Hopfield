{
 "cells": [
  {
   "cell_type": "markdown",
   "metadata": {},
   "source": [
    "I will test out the 2D lattice Hopfield network implementation, and investigate its memory capacity.\n",
    "\n",
    "## Imports..."
   ]
  },
  {
   "cell_type": "code",
   "execution_count": 11,
   "metadata": {
    "collapsed": false
   },
   "outputs": [
    {
     "name": "stdout",
     "output_type": "stream",
     "text": [
      "The autoreload extension is already loaded. To reload it, use:\n",
      "  %reload_ext autoreload\n"
     ]
    }
   ],
   "source": [
    "# enables plotting inline of Jupyter notebooks\n",
    "%matplotlib inline\n",
    "\n",
    "# autoreloading of modules\n",
    "%load_ext autoreload\n",
    "%autoreload 2\n",
    "\n",
    "import numpy as np\n",
    "import math\n",
    "\n",
    "from network import HopfieldNetwork\n",
    "from pattern_tools import PatternFactory\n",
    "import pattern_tools\n",
    "import plot_tools"
   ]
  },
  {
   "cell_type": "markdown",
   "metadata": {},
   "source": [
    "## Creating Lattice Hopfield Network with N = 100 Neurons (small)"
   ]
  },
  {
   "cell_type": "code",
   "execution_count": null,
   "metadata": {
    "collapsed": false
   },
   "outputs": [],
   "source": [
    "# architecture parameters\n",
    "nr_neurons = 10000 # should be a square number for 2D patterns\n",
    "pattern_length, pattern_width = int(math.sqrt(nr_neurons)), int(math.sqrt(nr_neurons))\n",
    "on_probability = 0.5 # for random patterns, the probability that a single pixel is \"on\"\n",
    "nr_patterns = 2 # number of patterns to store in the network\n",
    "\n",
    "print pattern_length, pattern_width\n",
    "\n",
    "# create Hopfield network with lattice connectivity\n",
    "nn = HopfieldNetwork(nr_neurons=nr_neurons, connectivity='lattice')\n",
    "\n",
    "# create a pattern factory for this network\n",
    "factory = PatternFactory(pattern_length=pattern_length, pattern_width=pattern_width)\n",
    "# create 5 random patterns to store in the network (it shouldn't be able to recall whatsoever).\n",
    "patterns = factory.create_random_pattern_list(nr_patterns=nr_patterns, on_probability=on_probability)\n",
    "# plot the patterns\n",
    "plot_tools.plot_pattern_list(patterns)\n",
    "\n",
    "# store the patterns in the lattice Hopfield network\n",
    "nn.store_patterns(patterns)\n",
    "# take a look at network weights\n",
    "plot_tools.plot_network_weights(hopfield_network=nn)\n",
    "\n",
    "# try to recall from all 5 patterns\n",
    "for idx, pattern in enumerate(patterns):\n",
    "    # get a noisy copy of the pattern\n",
    "    noisy_init = pattern_tools.flip_n(pattern, nr_of_flips=5)\n",
    "    # set the initial state of the Hopfield network as the noisy copy\n",
    "    nn.set_state_from_pattern(noisy_init)\n",
    "    \n",
    "    # let the dynamics evolve from this initial state\n",
    "    states = nn.run_with_monitoring(nr_steps=6)\n",
    "    \n",
    "    # each network state is a vector. reshape it to the same shape used to create the patterns.\n",
    "    states_as_patterns = factory.reshape_patterns(states)\n",
    "    # plot the states of the network\n",
    "    plot_tools.plot_state_sequence_and_overlap(states_as_patterns, patterns, reference_idx=idx, suptitle=\"Network dynamics\")"
   ]
  },
  {
   "cell_type": "code",
   "execution_count": null,
   "metadata": {
    "collapsed": true
   },
   "outputs": [],
   "source": []
  }
 ],
 "metadata": {
  "anaconda-cloud": {},
  "kernelspec": {
   "display_name": "Python [conda env:py27]",
   "language": "python",
   "name": "conda-env-py27-py"
  },
  "language_info": {
   "codemirror_mode": {
    "name": "ipython",
    "version": 2
   },
   "file_extension": ".py",
   "mimetype": "text/x-python",
   "name": "python",
   "nbconvert_exporter": "python",
   "pygments_lexer": "ipython2",
   "version": "2.7.13"
  }
 },
 "nbformat": 4,
 "nbformat_minor": 1
}
